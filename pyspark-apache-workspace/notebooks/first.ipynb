{
 "cells": [
  {
   "cell_type": "code",
   "execution_count": null,
   "metadata": {},
   "outputs": [],
   "source": [
    "# %pip install findspark"
   ]
  },
  {
   "cell_type": "code",
   "execution_count": 22,
   "metadata": {},
   "outputs": [],
   "source": [
    "import findspark\n",
    "findspark.init()\n",
    "\n",
    "from pyspark import SparkContext\n",
    "from pyspark.sql import SparkSession"
   ]
  },
  {
   "cell_type": "code",
   "execution_count": 23,
   "metadata": {},
   "outputs": [
    {
     "data": {
      "text/html": [
       "\n",
       "        <div>\n",
       "            <p><b>SparkContext</b></p>\n",
       "\n",
       "            <p><a href=\"http://robsons-imac.lan:4044\">Spark UI</a></p>\n",
       "\n",
       "            <dl>\n",
       "              <dt>Version</dt>\n",
       "                <dd><code>v3.2.1</code></dd>\n",
       "              <dt>Master</dt>\n",
       "                <dd><code>local[*]</code></dd>\n",
       "              <dt>AppName</dt>\n",
       "                <dd><code>pyspark-shell</code></dd>\n",
       "            </dl>\n",
       "        </div>\n",
       "        "
      ],
      "text/plain": [
       "<SparkContext master=local[*] appName=pyspark-shell>"
      ]
     },
     "execution_count": 23,
     "metadata": {},
     "output_type": "execute_result"
    }
   ],
   "source": [
    "sc = SparkContext.getOrCreate()\n",
    "sc"
   ]
  },
  {
   "cell_type": "code",
   "execution_count": 24,
   "metadata": {},
   "outputs": [
    {
     "data": {
      "text/html": [
       "\n",
       "            <div>\n",
       "                <p><b>SparkSession - in-memory</b></p>\n",
       "                \n",
       "        <div>\n",
       "            <p><b>SparkContext</b></p>\n",
       "\n",
       "            <p><a href=\"http://robsons-imac.lan:4044\">Spark UI</a></p>\n",
       "\n",
       "            <dl>\n",
       "              <dt>Version</dt>\n",
       "                <dd><code>v3.2.1</code></dd>\n",
       "              <dt>Master</dt>\n",
       "                <dd><code>local[*]</code></dd>\n",
       "              <dt>AppName</dt>\n",
       "                <dd><code>pyspark-shell</code></dd>\n",
       "            </dl>\n",
       "        </div>\n",
       "        \n",
       "            </div>\n",
       "        "
      ],
      "text/plain": [
       "<pyspark.sql.session.SparkSession at 0x7f91f6a0db50>"
      ]
     },
     "execution_count": 24,
     "metadata": {},
     "output_type": "execute_result"
    }
   ],
   "source": [
    "spark = SparkSession.builder.getOrCreate()\n",
    "spark"
   ]
  },
  {
   "cell_type": "code",
   "execution_count": 55,
   "metadata": {},
   "outputs": [
    {
     "name": "stdout",
     "output_type": "stream",
     "text": [
      "+--------+-----------+-------------------+--------------------+----+------------+--------------------+--------------------+------+--------+----+--------+----+--------------+--------+------------+------------+----+--------------------+------------+-------------+--------------------+\n",
      "|      ID|Case Number|               Date|               Block|IUCR|Primary Type|         Description|Location Description|Arrest|Domestic|Beat|District|Ward|Community Area|FBI Code|X Coordinate|Y Coordinate|Year|          Updated On|    Latitude|    Longitude|            Location|\n",
      "+--------+-----------+-------------------+--------------------+----+------------+--------------------+--------------------+------+--------+----+--------+----+--------------+--------+------------+------------+----+--------------------+------------+-------------+--------------------+\n",
      "|10224738|   HY411648|2015-09-05 13:30:00|     043XX S WOOD ST|0486|     BATTERY|DOMESTIC BATTERY ...|           RESIDENCE| false|    true|0924|     009|  12|            61|     08B|     1165074|     1875917|2015|02/10/2018 03:50:...|41.815117282|-87.669999562|(41.815117282, -8...|\n",
      "|10224739|   HY411615|2015-09-04 11:30:00| 008XX N CENTRAL AVE|0870|       THEFT|      POCKET-PICKING|             CTA BUS| false|   false|1511|     015|  29|            25|      06|     1138875|     1904869|2015|02/10/2018 03:50:...|41.895080471|-87.765400451|(41.895080471, -8...|\n",
      "|11646166|   JC213529|2018-09-01 00:01:00|082XX S INGLESIDE...|0810|       THEFT|           OVER $500|           RESIDENCE| false|    true|0631|     006|   8|            44|      06|        null|        null|2018|04/06/2019 04:04:...|        null|         null|                null|\n",
      "|10224740|   HY411595|2015-09-05 12:45:00|   035XX W BARRY AVE|2023|   NARCOTICS|POSS: HEROIN(BRN/...|            SIDEWALK|  true|   false|1412|     014|  35|            21|      18|     1152037|     1920384|2015|02/10/2018 03:50:...|41.937405765|-87.716649687|(41.937405765, -8...|\n",
      "|10224741|   HY411610|2015-09-05 13:00:00| 0000X N LARAMIE AVE|0560|     ASSAULT|              SIMPLE|           APARTMENT| false|    true|1522|     015|  28|            25|     08A|     1141706|     1900086|2015|02/10/2018 03:50:...|41.881903443|-87.755121152|(41.881903443, -8...|\n",
      "+--------+-----------+-------------------+--------------------+----+------------+--------------------+--------------------+------+--------+----+--------+----+--------------+--------+------------+------------+----+--------------------+------------+-------------+--------------------+\n",
      "only showing top 5 rows\n",
      "\n"
     ]
    }
   ],
   "source": [
    "from pyspark.sql.functions import to_timestamp, col, lit\n",
    "df = spark.read.csv('../data/reported-crimes.csv', header=True).withColumn(\n",
    "    'Date', to_timestamp(col('Date'), 'MM/dd/yyyy hh:mm:ss a')).filter(\n",
    "    col('Date') <= lit('2018-11-11'))\n",
    "\n",
    "df.show(5)"
   ]
  },
  {
   "cell_type": "code",
   "execution_count": 56,
   "metadata": {},
   "outputs": [
    {
     "data": {
      "text/plain": [
       "['ID',\n",
       " 'Case Number',\n",
       " 'Date',\n",
       " 'Block',\n",
       " 'IUCR',\n",
       " 'Primary Type',\n",
       " 'Description',\n",
       " 'Location Description',\n",
       " 'Arrest',\n",
       " 'Domestic',\n",
       " 'Beat',\n",
       " 'District',\n",
       " 'Ward',\n",
       " 'Community Area',\n",
       " 'FBI Code',\n",
       " 'X Coordinate',\n",
       " 'Y Coordinate',\n",
       " 'Year',\n",
       " 'Updated On',\n",
       " 'Latitude',\n",
       " 'Longitude',\n",
       " 'Location']"
      ]
     },
     "execution_count": 56,
     "metadata": {},
     "output_type": "execute_result"
    }
   ],
   "source": [
    "df.columns"
   ]
  },
  {
   "cell_type": "markdown",
   "metadata": {},
   "source": [
    "SCHEMAS"
   ]
  },
  {
   "cell_type": "code",
   "execution_count": 57,
   "metadata": {},
   "outputs": [],
   "source": [
    "from pyspark.sql.types import StructType, StructField, StringType, TimestampType, BooleanType, DoubleType, IntegerType"
   ]
  },
  {
   "cell_type": "code",
   "execution_count": 58,
   "metadata": {},
   "outputs": [
    {
     "name": "stdout",
     "output_type": "stream",
     "text": [
      "root\n",
      " |-- ID: string (nullable = true)\n",
      " |-- Case Number: string (nullable = true)\n",
      " |-- Date: timestamp (nullable = true)\n",
      " |-- Block: string (nullable = true)\n",
      " |-- IUCR: string (nullable = true)\n",
      " |-- Primary Type: string (nullable = true)\n",
      " |-- Description: string (nullable = true)\n",
      " |-- Location Description: string (nullable = true)\n",
      " |-- Arrest: string (nullable = true)\n",
      " |-- Domestic: string (nullable = true)\n",
      " |-- Beat: string (nullable = true)\n",
      " |-- District: string (nullable = true)\n",
      " |-- Ward: string (nullable = true)\n",
      " |-- Community Area: string (nullable = true)\n",
      " |-- FBI Code: string (nullable = true)\n",
      " |-- X Coordinate: string (nullable = true)\n",
      " |-- Y Coordinate: string (nullable = true)\n",
      " |-- Year: string (nullable = true)\n",
      " |-- Updated On: string (nullable = true)\n",
      " |-- Latitude: string (nullable = true)\n",
      " |-- Longitude: string (nullable = true)\n",
      " |-- Location: string (nullable = true)\n",
      "\n"
     ]
    }
   ],
   "source": [
    "df.printSchema()"
   ]
  },
  {
   "cell_type": "code",
   "execution_count": 59,
   "metadata": {},
   "outputs": [],
   "source": [
    "# StructType([\n",
    "#     StructField(\"ID\", StringType(), True),\n",
    "#     StructField(\"CaseNumber\", StringType(), True),\n",
    "#     StructField(\"Date\", TimestampType(), True),\n",
    "#     StructField(\"Block\", StringType(), True),\n",
    "#     StructField(\"IUCR\", StringType(), True),\n",
    "#     StructField(\"PrimaryType\", StringType(), True),\n",
    "#     StructField(\"Description\", StringType(), True),\n",
    "#     StructField(\"LocationDescription\", StringType(), True),\n",
    "#     StructField(\"Arrest\", BooleanType(), True),\n",
    "#     StructField(\"Domestic\", BooleanType(), True),\n",
    "#     StructField(\"Beat\", StringType(), True),\n",
    "#     StructField(\"District\", StringType(), True),\n",
    "#     StructField(\"Ward\", StringType(), True),\n",
    "#     StructField(\"CommunityArea\", StringType(), True),\n",
    "#     StructField(\"FBICode\", StringType(), True),\n",
    "#     StructField(\"XCoordinate\", DoubleType(), True),\n",
    "#     StructField(\"YCoordinate\", DoubleType(), True),\n",
    "#     StructField(\"Year\", StringType(), True),\n",
    "#     StructField(\"UpdatedOn\", TimestampType(), True),\n",
    "#     StructField(\"Latitude\", DoubleType(), True),\n",
    "#     StructField(\"Longitude\", DoubleType(), True),\n",
    "#     StructField(\"Location\", StringType(), True)\n",
    "# ])"
   ]
  },
  {
   "cell_type": "code",
   "execution_count": 60,
   "metadata": {},
   "outputs": [
    {
     "data": {
      "text/plain": [
       "StructType(List(StructField(ID,StringType,true),StructField(CaseNumber,StringType,true),StructField(Date,TimestampType,true),StructField(Block,StringType,true),StructField(IUCR,StringType,true),StructField(PrimaryType,StringType,true),StructField(Description,StringType,true),StructField(LocationDescription,StringType,true),StructField(Arrest,StringType,true),StructField(Domestic,BooleanType,true),StructField(Beat,StringType,true),StructField(District,StringType,true),StructField(Ward,StringType,true),StructField(CommunityArea,StringType,true),StructField(FBICode,StringType,true),StructField(XCoordinate,StringType,true),StructField(YCoordinate,StringType,true),StructField(Year,IntegerType,true),StructField(UpdatedOn,StringType,true),StructField(Latitude,DoubleType,true),StructField(Longitude,DoubleType,true),StructField(Location,StringType,true)))"
      ]
     },
     "execution_count": 60,
     "metadata": {},
     "output_type": "execute_result"
    }
   ],
   "source": [
    "# same as above but with a list comprehension in order to make this faster\n",
    "labels = [\n",
    "    ('ID', StringType()),\n",
    "    ('CaseNumber', StringType()),\n",
    "    ('Date', TimestampType()),\n",
    "    ('Block', StringType()),\n",
    "    ('IUCR', StringType()),\n",
    "    ('PrimaryType', StringType()),\n",
    "    ('Description', StringType()),\n",
    "    ('LocationDescription', StringType()),\n",
    "    ('Arrest', StringType()),\n",
    "    ('Domestic', BooleanType()),\n",
    "    ('Beat', StringType()),\n",
    "    ('District', StringType()),\n",
    "    ('Ward', StringType()),\n",
    "    ('CommunityArea', StringType()),\n",
    "    ('FBICode', StringType()),\n",
    "    ('XCoordinate', StringType()),\n",
    "    ('YCoordinate', StringType()),\n",
    "    ('Year', IntegerType()),\n",
    "    ('UpdatedOn', StringType()),\n",
    "    ('Latitude', DoubleType()),\n",
    "    ('Longitude', DoubleType()),\n",
    "    ('Location', StringType())\n",
    "\n",
    "]\n",
    "\n",
    "schema = StructType([StructField (x[0], x[1], True) for x in labels])\n",
    "schema"
   ]
  },
  {
   "cell_type": "code",
   "execution_count": 61,
   "metadata": {},
   "outputs": [
    {
     "name": "stdout",
     "output_type": "stream",
     "text": [
      "root\n",
      " |-- ID: string (nullable = true)\n",
      " |-- CaseNumber: string (nullable = true)\n",
      " |-- Date: timestamp (nullable = true)\n",
      " |-- Block: string (nullable = true)\n",
      " |-- IUCR: string (nullable = true)\n",
      " |-- PrimaryType: string (nullable = true)\n",
      " |-- Description: string (nullable = true)\n",
      " |-- LocationDescription: string (nullable = true)\n",
      " |-- Arrest: string (nullable = true)\n",
      " |-- Domestic: boolean (nullable = true)\n",
      " |-- Beat: string (nullable = true)\n",
      " |-- District: string (nullable = true)\n",
      " |-- Ward: string (nullable = true)\n",
      " |-- CommunityArea: string (nullable = true)\n",
      " |-- FBICode: string (nullable = true)\n",
      " |-- XCoordinate: string (nullable = true)\n",
      " |-- YCoordinate: string (nullable = true)\n",
      " |-- Year: integer (nullable = true)\n",
      " |-- UpdatedOn: string (nullable = true)\n",
      " |-- Latitude: double (nullable = true)\n",
      " |-- Longitude: double (nullable = true)\n",
      " |-- Location: string (nullable = true)\n",
      "\n"
     ]
    }
   ],
   "source": [
    "df = spark.read.csv('../data/reported-crimes.csv', header=True, schema=schema)\n",
    "df.printSchema()"
   ]
  },
  {
   "cell_type": "code",
   "execution_count": 62,
   "metadata": {},
   "outputs": [
    {
     "name": "stdout",
     "output_type": "stream",
     "text": [
      "+--------+----------+----+--------------------+----+-----------+--------------------+-------------------+------+--------+----+--------+----+-------------+-------+-----------+-----------+----+--------------------+------------+-------------+--------------------+\n",
      "|      ID|CaseNumber|Date|               Block|IUCR|PrimaryType|         Description|LocationDescription|Arrest|Domestic|Beat|District|Ward|CommunityArea|FBICode|XCoordinate|YCoordinate|Year|           UpdatedOn|    Latitude|    Longitude|            Location|\n",
      "+--------+----------+----+--------------------+----+-----------+--------------------+-------------------+------+--------+----+--------+----+-------------+-------+-----------+-----------+----+--------------------+------------+-------------+--------------------+\n",
      "|10224738|  HY411648|null|     043XX S WOOD ST|0486|    BATTERY|DOMESTIC BATTERY ...|          RESIDENCE| false|    true|0924|     009|  12|           61|    08B|    1165074|    1875917|2015|02/10/2018 03:50:...|41.815117282|-87.669999562|(41.815117282, -8...|\n",
      "|10224739|  HY411615|null| 008XX N CENTRAL AVE|0870|      THEFT|      POCKET-PICKING|            CTA BUS| false|   false|1511|     015|  29|           25|     06|    1138875|    1904869|2015|02/10/2018 03:50:...|41.895080471|-87.765400451|(41.895080471, -8...|\n",
      "|11646166|  JC213529|null|082XX S INGLESIDE...|0810|      THEFT|           OVER $500|          RESIDENCE| false|    true|0631|     006|   8|           44|     06|       null|       null|2018|04/06/2019 04:04:...|        null|         null|                null|\n",
      "|10224740|  HY411595|null|   035XX W BARRY AVE|2023|  NARCOTICS|POSS: HEROIN(BRN/...|           SIDEWALK|  true|   false|1412|     014|  35|           21|     18|    1152037|    1920384|2015|02/10/2018 03:50:...|41.937405765|-87.716649687|(41.937405765, -8...|\n",
      "|10224741|  HY411610|null| 0000X N LARAMIE AVE|0560|    ASSAULT|              SIMPLE|          APARTMENT| false|    true|1522|     015|  28|           25|    08A|    1141706|    1900086|2015|02/10/2018 03:50:...|41.881903443|-87.755121152|(41.881903443, -8...|\n",
      "+--------+----------+----+--------------------+----+-----------+--------------------+-------------------+------+--------+----+--------+----+-------------+-------+-----------+-----------+----+--------------------+------------+-------------+--------------------+\n",
      "only showing top 5 rows\n",
      "\n"
     ]
    },
    {
     "name": "stderr",
     "output_type": "stream",
     "text": [
      "22/03/27 16:36:27 WARN CSVHeaderChecker: CSV header does not conform to the schema.\n",
      " Header: ID, Case Number, Date, Block, IUCR, Primary Type, Description, Location Description, Arrest, Domestic, Beat, District, Ward, Community Area, FBI Code, X Coordinate, Y Coordinate, Year, Updated On, Latitude, Longitude, Location\n",
      " Schema: ID, CaseNumber, Date, Block, IUCR, PrimaryType, Description, LocationDescription, Arrest, Domestic, Beat, District, Ward, CommunityArea, FBICode, XCoordinate, YCoordinate, Year, UpdatedOn, Latitude, Longitude, Location\n",
      "Expected: CaseNumber but found: Case Number\n",
      "CSV file: file:///Users/rob_the_programmer/Documents/programming/2022/apache_pyspark_workspace/data/reported-crimes.csv\n"
     ]
    }
   ],
   "source": [
    "df.show(5)"
   ]
  },
  {
   "cell_type": "markdown",
   "metadata": {},
   "source": [
    "WORKING WITH COLUMNS"
   ]
  },
  {
   "cell_type": "code",
   "execution_count": 63,
   "metadata": {},
   "outputs": [
    {
     "data": {
      "text/plain": [
       "['ID',\n",
       " 'CaseNumber',\n",
       " 'Date',\n",
       " 'Block',\n",
       " 'IUCR',\n",
       " 'PrimaryType',\n",
       " 'Description',\n",
       " 'LocationDescription',\n",
       " 'Arrest',\n",
       " 'Domestic',\n",
       " 'Beat',\n",
       " 'District',\n",
       " 'Ward',\n",
       " 'CommunityArea',\n",
       " 'FBICode',\n",
       " 'XCoordinate',\n",
       " 'YCoordinate',\n",
       " 'Year',\n",
       " 'UpdatedOn',\n",
       " 'Latitude',\n",
       " 'Longitude',\n",
       " 'Location']"
      ]
     },
     "execution_count": 63,
     "metadata": {},
     "output_type": "execute_result"
    }
   ],
   "source": [
    "df.columns"
   ]
  },
  {
   "cell_type": "code",
   "execution_count": 64,
   "metadata": {},
   "outputs": [
    {
     "data": {
      "text/plain": [
       "Column<'CaseNumber'>"
      ]
     },
     "execution_count": 64,
     "metadata": {},
     "output_type": "execute_result"
    }
   ],
   "source": [
    "df.CaseNumber"
   ]
  },
  {
   "cell_type": "code",
   "execution_count": 65,
   "metadata": {},
   "outputs": [],
   "source": [
    "df.createOrReplaceTempView('crimes')"
   ]
  },
  {
   "cell_type": "code",
   "execution_count": 66,
   "metadata": {},
   "outputs": [
    {
     "name": "stderr",
     "output_type": "stream",
     "text": [
      "[Stage 46:====================================================>   (13 + 1) / 14]\r"
     ]
    },
    {
     "name": "stdout",
     "output_type": "stream",
     "text": [
      "+--------+\n",
      "|count(1)|\n",
      "+--------+\n",
      "| 7509376|\n",
      "+--------+\n",
      "\n"
     ]
    },
    {
     "name": "stderr",
     "output_type": "stream",
     "text": [
      "                                                                                \r"
     ]
    }
   ],
   "source": [
    "spark.sql('select count(*) from crimes').show()"
   ]
  },
  {
   "cell_type": "code",
   "execution_count": 67,
   "metadata": {},
   "outputs": [
    {
     "name": "stdout",
     "output_type": "stream",
     "text": [
      "+----+\n",
      "|IUCR|\n",
      "+----+\n",
      "|0486|\n",
      "|0870|\n",
      "|0810|\n",
      "|2023|\n",
      "|0560|\n",
      "+----+\n",
      "only showing top 5 rows\n",
      "\n"
     ]
    }
   ],
   "source": [
    "# display only the first 5 rows of the column IUCR\n",
    "df.select('IUCR').show(5)"
   ]
  },
  {
   "cell_type": "code",
   "execution_count": 69,
   "metadata": {},
   "outputs": [
    {
     "name": "stderr",
     "output_type": "stream",
     "text": [
      "[Stage 50:===========>    (10 + 4) / 14][Stage 51:>                 (0 + 0) / 1]\r"
     ]
    },
    {
     "name": "stdout",
     "output_type": "stream",
     "text": [
      "+----+\n",
      "|IUCR|\n",
      "+----+\n",
      "|0486|\n",
      "|0870|\n",
      "|0810|\n",
      "|2023|\n",
      "|0560|\n",
      "+----+\n",
      "only showing top 5 rows\n",
      "\n"
     ]
    },
    {
     "name": "stderr",
     "output_type": "stream",
     "text": [
      "                                                                                \r"
     ]
    }
   ],
   "source": [
    "spark.sql('select IUCR from crimes').show(5)"
   ]
  },
  {
   "cell_type": "code",
   "execution_count": 70,
   "metadata": {},
   "outputs": [
    {
     "name": "stdout",
     "output_type": "stream",
     "text": [
      "+----------+----+------+\n",
      "|CaseNumber|Date|Arrest|\n",
      "+----------+----+------+\n",
      "|  HY411648|null| false|\n",
      "|  HY411615|null| false|\n",
      "|  JC213529|null| false|\n",
      "|  HY411595|null|  true|\n",
      "+----------+----+------+\n",
      "only showing top 4 rows\n",
      "\n"
     ]
    },
    {
     "name": "stderr",
     "output_type": "stream",
     "text": [
      "22/03/27 16:53:57 WARN CSVHeaderChecker: CSV header does not conform to the schema.\n",
      " Header: Case Number, Date, Arrest\n",
      " Schema: CaseNumber, Date, Arrest\n",
      "Expected: CaseNumber but found: Case Number\n",
      "CSV file: file:///Users/rob_the_programmer/Documents/programming/2022/apache_pyspark_workspace/data/reported-crimes.csv\n"
     ]
    }
   ],
   "source": [
    "# display only the first 4 rows of the column names case number, date and arrest\n",
    "df.select('CaseNumber', 'Date', 'Arrest').show(4)"
   ]
  },
  {
   "cell_type": "code",
   "execution_count": 71,
   "metadata": {},
   "outputs": [
    {
     "name": "stdout",
     "output_type": "stream",
     "text": [
      "+----------+----+------+\n",
      "|CaseNumber|Date|Arrest|\n",
      "+----------+----+------+\n",
      "|  HY411648|null| false|\n",
      "|  HY411615|null| false|\n",
      "|  JC213529|null| false|\n",
      "|  HY411595|null|  true|\n",
      "+----------+----+------+\n",
      "only showing top 4 rows\n",
      "\n"
     ]
    },
    {
     "name": "stderr",
     "output_type": "stream",
     "text": [
      "22/03/27 16:54:04 WARN CSVHeaderChecker: CSV header does not conform to the schema.\n",
      " Header: Case Number, Date, Arrest\n",
      " Schema: CaseNumber, Date, Arrest\n",
      "Expected: CaseNumber but found: Case Number\n",
      "CSV file: file:///Users/rob_the_programmer/Documents/programming/2022/apache_pyspark_workspace/data/reported-crimes.csv\n"
     ]
    }
   ],
   "source": [
    "spark.sql('select CaseNumber, Date, Arrest from crimes').show(4)"
   ]
  },
  {
   "cell_type": "code",
   "execution_count": 72,
   "metadata": {},
   "outputs": [],
   "source": [
    "# add a column with name One, with entries all 1s\n",
    "df = df.withColumn('One', lit(1))"
   ]
  },
  {
   "cell_type": "code",
   "execution_count": 74,
   "metadata": {},
   "outputs": [
    {
     "name": "stdout",
     "output_type": "stream",
     "text": [
      "+---+\n",
      "|One|\n",
      "+---+\n",
      "|  1|\n",
      "|  1|\n",
      "|  1|\n",
      "|  1|\n",
      "|  1|\n",
      "+---+\n",
      "only showing top 5 rows\n",
      "\n"
     ]
    }
   ],
   "source": [
    "df.select('One').show(5)"
   ]
  },
  {
   "cell_type": "code",
   "execution_count": 75,
   "metadata": {},
   "outputs": [
    {
     "name": "stdout",
     "output_type": "stream",
     "text": [
      "+--------+----------+----+--------------------+----+-----------+--------------------+-------------------+------+--------+----+--------+----+-------------+-------+-----------+-----------+----+--------------------+------------+-------------+--------------------+---+\n",
      "|      ID|CaseNumber|Date|               Block|IUCR|PrimaryType|         Description|LocationDescription|Arrest|Domestic|Beat|District|Ward|CommunityArea|FBICode|XCoordinate|YCoordinate|Year|           UpdatedOn|    Latitude|    Longitude|            Location|One|\n",
      "+--------+----------+----+--------------------+----+-----------+--------------------+-------------------+------+--------+----+--------+----+-------------+-------+-----------+-----------+----+--------------------+------------+-------------+--------------------+---+\n",
      "|10224738|  HY411648|null|     043XX S WOOD ST|0486|    BATTERY|DOMESTIC BATTERY ...|          RESIDENCE| false|    true|0924|     009|  12|           61|    08B|    1165074|    1875917|2015|02/10/2018 03:50:...|41.815117282|-87.669999562|(41.815117282, -8...|  1|\n",
      "|10224739|  HY411615|null| 008XX N CENTRAL AVE|0870|      THEFT|      POCKET-PICKING|            CTA BUS| false|   false|1511|     015|  29|           25|     06|    1138875|    1904869|2015|02/10/2018 03:50:...|41.895080471|-87.765400451|(41.895080471, -8...|  1|\n",
      "|11646166|  JC213529|null|082XX S INGLESIDE...|0810|      THEFT|           OVER $500|          RESIDENCE| false|    true|0631|     006|   8|           44|     06|       null|       null|2018|04/06/2019 04:04:...|        null|         null|                null|  1|\n",
      "|10224740|  HY411595|null|   035XX W BARRY AVE|2023|  NARCOTICS|POSS: HEROIN(BRN/...|           SIDEWALK|  true|   false|1412|     014|  35|           21|     18|    1152037|    1920384|2015|02/10/2018 03:50:...|41.937405765|-87.716649687|(41.937405765, -8...|  1|\n",
      "|10224741|  HY411610|null| 0000X N LARAMIE AVE|0560|    ASSAULT|              SIMPLE|          APARTMENT| false|    true|1522|     015|  28|           25|    08A|    1141706|    1900086|2015|02/10/2018 03:50:...|41.881903443|-87.755121152|(41.881903443, -8...|  1|\n",
      "+--------+----------+----+--------------------+----+-----------+--------------------+-------------------+------+--------+----+--------+----+-------------+-------+-----------+-----------+----+--------------------+------------+-------------+--------------------+---+\n",
      "only showing top 5 rows\n",
      "\n"
     ]
    },
    {
     "name": "stderr",
     "output_type": "stream",
     "text": [
      "22/03/27 16:55:52 WARN CSVHeaderChecker: CSV header does not conform to the schema.\n",
      " Header: ID, Case Number, Date, Block, IUCR, Primary Type, Description, Location Description, Arrest, Domestic, Beat, District, Ward, Community Area, FBI Code, X Coordinate, Y Coordinate, Year, Updated On, Latitude, Longitude, Location\n",
      " Schema: ID, CaseNumber, Date, Block, IUCR, PrimaryType, Description, LocationDescription, Arrest, Domestic, Beat, District, Ward, CommunityArea, FBICode, XCoordinate, YCoordinate, Year, UpdatedOn, Latitude, Longitude, Location\n",
      "Expected: CaseNumber but found: Case Number\n",
      "CSV file: file:///Users/rob_the_programmer/Documents/programming/2022/apache_pyspark_workspace/data/reported-crimes.csv\n"
     ]
    }
   ],
   "source": [
    "df.show(5)"
   ]
  },
  {
   "cell_type": "code",
   "execution_count": 76,
   "metadata": {},
   "outputs": [],
   "source": [
    "# remove the column IUCR\n",
    "df = df.drop('IUCR')"
   ]
  },
  {
   "cell_type": "code",
   "execution_count": 77,
   "metadata": {},
   "outputs": [
    {
     "name": "stdout",
     "output_type": "stream",
     "text": [
      "+--------+----------+----+--------------------+-----------+--------------------+-------------------+------+--------+----+--------+----+-------------+-------+-----------+-----------+----+--------------------+------------+-------------+--------------------+---+\n",
      "|      ID|CaseNumber|Date|               Block|PrimaryType|         Description|LocationDescription|Arrest|Domestic|Beat|District|Ward|CommunityArea|FBICode|XCoordinate|YCoordinate|Year|           UpdatedOn|    Latitude|    Longitude|            Location|One|\n",
      "+--------+----------+----+--------------------+-----------+--------------------+-------------------+------+--------+----+--------+----+-------------+-------+-----------+-----------+----+--------------------+------------+-------------+--------------------+---+\n",
      "|10224738|  HY411648|null|     043XX S WOOD ST|    BATTERY|DOMESTIC BATTERY ...|          RESIDENCE| false|    true|0924|     009|  12|           61|    08B|    1165074|    1875917|2015|02/10/2018 03:50:...|41.815117282|-87.669999562|(41.815117282, -8...|  1|\n",
      "|10224739|  HY411615|null| 008XX N CENTRAL AVE|      THEFT|      POCKET-PICKING|            CTA BUS| false|   false|1511|     015|  29|           25|     06|    1138875|    1904869|2015|02/10/2018 03:50:...|41.895080471|-87.765400451|(41.895080471, -8...|  1|\n",
      "|11646166|  JC213529|null|082XX S INGLESIDE...|      THEFT|           OVER $500|          RESIDENCE| false|    true|0631|     006|   8|           44|     06|       null|       null|2018|04/06/2019 04:04:...|        null|         null|                null|  1|\n",
      "|10224740|  HY411595|null|   035XX W BARRY AVE|  NARCOTICS|POSS: HEROIN(BRN/...|           SIDEWALK|  true|   false|1412|     014|  35|           21|     18|    1152037|    1920384|2015|02/10/2018 03:50:...|41.937405765|-87.716649687|(41.937405765, -8...|  1|\n",
      "|10224741|  HY411610|null| 0000X N LARAMIE AVE|    ASSAULT|              SIMPLE|          APARTMENT| false|    true|1522|     015|  28|           25|    08A|    1141706|    1900086|2015|02/10/2018 03:50:...|41.881903443|-87.755121152|(41.881903443, -8...|  1|\n",
      "+--------+----------+----+--------------------+-----------+--------------------+-------------------+------+--------+----+--------+----+-------------+-------+-----------+-----------+----+--------------------+------------+-------------+--------------------+---+\n",
      "only showing top 5 rows\n",
      "\n"
     ]
    },
    {
     "name": "stderr",
     "output_type": "stream",
     "text": [
      "22/03/27 16:56:21 WARN CSVHeaderChecker: CSV header does not conform to the schema.\n",
      " Header: ID, Case Number, Date, Block, Primary Type, Description, Location Description, Arrest, Domestic, Beat, District, Ward, Community Area, FBI Code, X Coordinate, Y Coordinate, Year, Updated On, Latitude, Longitude, Location\n",
      " Schema: ID, CaseNumber, Date, Block, PrimaryType, Description, LocationDescription, Arrest, Domestic, Beat, District, Ward, CommunityArea, FBICode, XCoordinate, YCoordinate, Year, UpdatedOn, Latitude, Longitude, Location\n",
      "Expected: CaseNumber but found: Case Number\n",
      "CSV file: file:///Users/rob_the_programmer/Documents/programming/2022/apache_pyspark_workspace/data/reported-crimes.csv\n"
     ]
    }
   ],
   "source": [
    "df.show(5)"
   ]
  },
  {
   "cell_type": "code",
   "execution_count": 78,
   "metadata": {},
   "outputs": [
    {
     "data": {
      "text/plain": [
       "['ID',\n",
       " 'CaseNumber',\n",
       " 'Date',\n",
       " 'Block',\n",
       " 'PrimaryType',\n",
       " 'Description',\n",
       " 'LocationDescription',\n",
       " 'Arrest',\n",
       " 'Domestic',\n",
       " 'Beat',\n",
       " 'District',\n",
       " 'Ward',\n",
       " 'CommunityArea',\n",
       " 'FBICode',\n",
       " 'XCoordinate',\n",
       " 'YCoordinate',\n",
       " 'Year',\n",
       " 'UpdatedOn',\n",
       " 'Latitude',\n",
       " 'Longitude',\n",
       " 'Location',\n",
       " 'One']"
      ]
     },
     "execution_count": 78,
     "metadata": {},
     "output_type": "execute_result"
    }
   ],
   "source": [
    "df.columns"
   ]
  },
  {
   "cell_type": "markdown",
   "metadata": {},
   "source": [
    "WORKING WITH ROWS"
   ]
  },
  {
   "cell_type": "code",
   "execution_count": 79,
   "metadata": {},
   "outputs": [
    {
     "name": "stdout",
     "output_type": "stream",
     "text": [
      "first.ipynb\n"
     ]
    }
   ],
   "source": [
    "!ls"
   ]
  },
  {
   "cell_type": "code",
   "execution_count": 80,
   "metadata": {},
   "outputs": [
    {
     "data": {
      "text/html": [
       "\n",
       "        <div>\n",
       "            <p><b>SparkContext</b></p>\n",
       "\n",
       "            <p><a href=\"http://robsons-imac.lan:4044\">Spark UI</a></p>\n",
       "\n",
       "            <dl>\n",
       "              <dt>Version</dt>\n",
       "                <dd><code>v3.2.1</code></dd>\n",
       "              <dt>Master</dt>\n",
       "                <dd><code>local[*]</code></dd>\n",
       "              <dt>AppName</dt>\n",
       "                <dd><code>pyspark-shell</code></dd>\n",
       "            </dl>\n",
       "        </div>\n",
       "        "
      ],
      "text/plain": [
       "<SparkContext master=local[*] appName=pyspark-shell>"
      ]
     },
     "execution_count": 80,
     "metadata": {},
     "output_type": "execute_result"
    }
   ],
   "source": [
    "sc"
   ]
  },
  {
   "cell_type": "code",
   "execution_count": 81,
   "metadata": {},
   "outputs": [
    {
     "data": {
      "text/html": [
       "\n",
       "            <div>\n",
       "                <p><b>SparkSession - in-memory</b></p>\n",
       "                \n",
       "        <div>\n",
       "            <p><b>SparkContext</b></p>\n",
       "\n",
       "            <p><a href=\"http://robsons-imac.lan:4044\">Spark UI</a></p>\n",
       "\n",
       "            <dl>\n",
       "              <dt>Version</dt>\n",
       "                <dd><code>v3.2.1</code></dd>\n",
       "              <dt>Master</dt>\n",
       "                <dd><code>local[*]</code></dd>\n",
       "              <dt>AppName</dt>\n",
       "                <dd><code>pyspark-shell</code></dd>\n",
       "            </dl>\n",
       "        </div>\n",
       "        \n",
       "            </div>\n",
       "        "
      ],
      "text/plain": [
       "<pyspark.sql.session.SparkSession at 0x7f91f6a0db50>"
      ]
     },
     "execution_count": 81,
     "metadata": {},
     "output_type": "execute_result"
    }
   ],
   "source": [
    "spark"
   ]
  },
  {
   "cell_type": "code",
   "execution_count": 82,
   "metadata": {},
   "outputs": [
    {
     "name": "stdout",
     "output_type": "stream",
     "text": [
      "+--------+----------+----+--------------------+-----------+--------------------+-------------------+------+--------+----+--------+----+-------------+-------+-----------+-----------+----+--------------------+------------+-------------+--------------------+---+\n",
      "|      ID|CaseNumber|Date|               Block|PrimaryType|         Description|LocationDescription|Arrest|Domestic|Beat|District|Ward|CommunityArea|FBICode|XCoordinate|YCoordinate|Year|           UpdatedOn|    Latitude|    Longitude|            Location|One|\n",
      "+--------+----------+----+--------------------+-----------+--------------------+-------------------+------+--------+----+--------+----+-------------+-------+-----------+-----------+----+--------------------+------------+-------------+--------------------+---+\n",
      "|10224738|  HY411648|null|     043XX S WOOD ST|    BATTERY|DOMESTIC BATTERY ...|          RESIDENCE| false|    true|0924|     009|  12|           61|    08B|    1165074|    1875917|2015|02/10/2018 03:50:...|41.815117282|-87.669999562|(41.815117282, -8...|  1|\n",
      "|10224739|  HY411615|null| 008XX N CENTRAL AVE|      THEFT|      POCKET-PICKING|            CTA BUS| false|   false|1511|     015|  29|           25|     06|    1138875|    1904869|2015|02/10/2018 03:50:...|41.895080471|-87.765400451|(41.895080471, -8...|  1|\n",
      "|11646166|  JC213529|null|082XX S INGLESIDE...|      THEFT|           OVER $500|          RESIDENCE| false|    true|0631|     006|   8|           44|     06|       null|       null|2018|04/06/2019 04:04:...|        null|         null|                null|  1|\n",
      "+--------+----------+----+--------------------+-----------+--------------------+-------------------+------+--------+----+--------+----+-------------+-------+-----------+-----------+----+--------------------+------------+-------------+--------------------+---+\n",
      "only showing top 3 rows\n",
      "\n"
     ]
    },
    {
     "name": "stderr",
     "output_type": "stream",
     "text": [
      "22/03/27 16:59:47 WARN CSVHeaderChecker: CSV header does not conform to the schema.\n",
      " Header: ID, Case Number, Date, Block, Primary Type, Description, Location Description, Arrest, Domestic, Beat, District, Ward, Community Area, FBI Code, X Coordinate, Y Coordinate, Year, Updated On, Latitude, Longitude, Location\n",
      " Schema: ID, CaseNumber, Date, Block, PrimaryType, Description, LocationDescription, Arrest, Domestic, Beat, District, Ward, CommunityArea, FBICode, XCoordinate, YCoordinate, Year, UpdatedOn, Latitude, Longitude, Location\n",
      "Expected: CaseNumber but found: Case Number\n",
      "CSV file: file:///Users/rob_the_programmer/Documents/programming/2022/apache_pyspark_workspace/data/reported-crimes.csv\n"
     ]
    }
   ],
   "source": [
    "df.show(3)"
   ]
  },
  {
   "cell_type": "code",
   "execution_count": 88,
   "metadata": {},
   "outputs": [],
   "source": [
    "# add the reported crimes for an additional day, 12-nov-2018, to dataset\n",
    "df_one_day = spark.read.csv('../data/reported-crimes.csv', header=True) \\\n",
    "            .withColumn('Date', to_timestamp(col('Date'), 'MM/dd/yyyy hh:mm:ss a')) \\\n",
    "            .filter(col('Date') == lit('2018-11-12'))"
   ]
  },
  {
   "cell_type": "code",
   "execution_count": 90,
   "metadata": {},
   "outputs": [
    {
     "data": {
      "text/plain": [
       "['ID',\n",
       " 'CaseNumber',\n",
       " 'Date',\n",
       " 'Block',\n",
       " 'PrimaryType',\n",
       " 'Description',\n",
       " 'LocationDescription',\n",
       " 'Arrest',\n",
       " 'Domestic',\n",
       " 'Beat',\n",
       " 'District',\n",
       " 'Ward',\n",
       " 'CommunityArea',\n",
       " 'FBICode',\n",
       " 'XCoordinate',\n",
       " 'YCoordinate',\n",
       " 'Year',\n",
       " 'UpdatedOn',\n",
       " 'Latitude',\n",
       " 'Longitude',\n",
       " 'Location',\n",
       " 'One']"
      ]
     },
     "execution_count": 90,
     "metadata": {},
     "output_type": "execute_result"
    }
   ],
   "source": [
    "df.columns"
   ]
  },
  {
   "cell_type": "code",
   "execution_count": 91,
   "metadata": {},
   "outputs": [
    {
     "data": {
      "text/plain": [
       "['ID',\n",
       " 'Case Number',\n",
       " 'Date',\n",
       " 'Block',\n",
       " 'IUCR',\n",
       " 'Primary Type',\n",
       " 'Description',\n",
       " 'Location Description',\n",
       " 'Arrest',\n",
       " 'Domestic',\n",
       " 'Beat',\n",
       " 'District',\n",
       " 'Ward',\n",
       " 'Community Area',\n",
       " 'FBI Code',\n",
       " 'X Coordinate',\n",
       " 'Y Coordinate',\n",
       " 'Year',\n",
       " 'Updated On',\n",
       " 'Latitude',\n",
       " 'Longitude',\n",
       " 'Location']"
      ]
     },
     "execution_count": 91,
     "metadata": {},
     "output_type": "execute_result"
    }
   ],
   "source": [
    "df_one_day.columns"
   ]
  },
  {
   "cell_type": "code",
   "execution_count": 94,
   "metadata": {},
   "outputs": [],
   "source": [
    "df_one_day = df_one_day.withColumnRenamed('Case Number', 'CaseNumber') \\\n",
    "            .withColumnRenamed('Primary Type', 'PrimaryType') \\\n",
    "            .withColumnRenamed('Location Description', 'LocationDescription') \\\n",
    "            .withColumnRenamed('Community Area', 'CommunityArea') \\\n",
    "            .withColumnRenamed('X Coordinate', 'XCoordinate') \\\n",
    "            .withColumnRenamed('Y Coordinate', 'YCoordinate') \\\n",
    "            .withColumnRenamed('Updated On', 'UpdatedOn') \n"
   ]
  },
  {
   "cell_type": "code",
   "execution_count": 95,
   "metadata": {},
   "outputs": [
    {
     "data": {
      "text/plain": [
       "['ID',\n",
       " 'CaseNumber',\n",
       " 'Date',\n",
       " 'Block',\n",
       " 'IUCR',\n",
       " 'PrimaryType',\n",
       " 'Description',\n",
       " 'LocationDescription',\n",
       " 'Arrest',\n",
       " 'Domestic',\n",
       " 'Beat',\n",
       " 'District',\n",
       " 'Ward',\n",
       " 'CommunityArea',\n",
       " 'FBI Code',\n",
       " 'XCoordinate',\n",
       " 'YCoordinate',\n",
       " 'Year',\n",
       " 'UpdatedOn',\n",
       " 'Latitude',\n",
       " 'Longitude',\n",
       " 'Location']"
      ]
     },
     "execution_count": 95,
     "metadata": {},
     "output_type": "execute_result"
    }
   ],
   "source": [
    "df_one_day.columns"
   ]
  },
  {
   "cell_type": "code",
   "execution_count": 96,
   "metadata": {},
   "outputs": [
    {
     "name": "stderr",
     "output_type": "stream",
     "text": [
      "                                                                                \r"
     ]
    },
    {
     "data": {
      "text/plain": [
       "3"
      ]
     },
     "execution_count": 96,
     "metadata": {},
     "output_type": "execute_result"
    }
   ],
   "source": [
    "df_one_day.count()"
   ]
  },
  {
   "cell_type": "code",
   "execution_count": 98,
   "metadata": {},
   "outputs": [
    {
     "name": "stdout",
     "output_type": "stream",
     "text": [
      "root\n",
      " |-- ID: string (nullable = true)\n",
      " |-- CaseNumber: string (nullable = true)\n",
      " |-- Date: timestamp (nullable = true)\n",
      " |-- Block: string (nullable = true)\n",
      " |-- IUCR: string (nullable = true)\n",
      " |-- PrimaryType: string (nullable = true)\n",
      " |-- Description: string (nullable = true)\n",
      " |-- LocationDescription: string (nullable = true)\n",
      " |-- Arrest: string (nullable = true)\n",
      " |-- Domestic: string (nullable = true)\n",
      " |-- Beat: string (nullable = true)\n",
      " |-- District: string (nullable = true)\n",
      " |-- Ward: string (nullable = true)\n",
      " |-- CommunityArea: string (nullable = true)\n",
      " |-- FBI Code: string (nullable = true)\n",
      " |-- XCoordinate: string (nullable = true)\n",
      " |-- YCoordinate: string (nullable = true)\n",
      " |-- Year: string (nullable = true)\n",
      " |-- UpdatedOn: string (nullable = true)\n",
      " |-- Latitude: string (nullable = true)\n",
      " |-- Longitude: string (nullable = true)\n",
      " |-- Location: string (nullable = true)\n",
      "\n"
     ]
    }
   ],
   "source": [
    "df_one_day.printSchema()"
   ]
  },
  {
   "cell_type": "code",
   "execution_count": 100,
   "metadata": {},
   "outputs": [],
   "source": [
    "df_one_day = df_one_day.withColumnRenamed('FBI Code', 'FBICode')"
   ]
  },
  {
   "cell_type": "code",
   "execution_count": 101,
   "metadata": {},
   "outputs": [
    {
     "name": "stdout",
     "output_type": "stream",
     "text": [
      "root\n",
      " |-- ID: string (nullable = true)\n",
      " |-- CaseNumber: string (nullable = true)\n",
      " |-- Date: timestamp (nullable = true)\n",
      " |-- Block: string (nullable = true)\n",
      " |-- IUCR: string (nullable = true)\n",
      " |-- PrimaryType: string (nullable = true)\n",
      " |-- Description: string (nullable = true)\n",
      " |-- LocationDescription: string (nullable = true)\n",
      " |-- Arrest: string (nullable = true)\n",
      " |-- Domestic: string (nullable = true)\n",
      " |-- Beat: string (nullable = true)\n",
      " |-- District: string (nullable = true)\n",
      " |-- Ward: string (nullable = true)\n",
      " |-- CommunityArea: string (nullable = true)\n",
      " |-- FBICode: string (nullable = true)\n",
      " |-- XCoordinate: string (nullable = true)\n",
      " |-- YCoordinate: string (nullable = true)\n",
      " |-- Year: string (nullable = true)\n",
      " |-- UpdatedOn: string (nullable = true)\n",
      " |-- Latitude: string (nullable = true)\n",
      " |-- Longitude: string (nullable = true)\n",
      " |-- Location: string (nullable = true)\n",
      "\n"
     ]
    }
   ],
   "source": [
    "df_one_day.printSchema()"
   ]
  },
  {
   "cell_type": "code",
   "execution_count": 102,
   "metadata": {},
   "outputs": [
    {
     "name": "stdout",
     "output_type": "stream",
     "text": [
      "root\n",
      " |-- ID: string (nullable = true)\n",
      " |-- CaseNumber: string (nullable = true)\n",
      " |-- Date: timestamp (nullable = true)\n",
      " |-- Block: string (nullable = true)\n",
      " |-- IUCR: string (nullable = true)\n",
      " |-- PrimaryType: string (nullable = true)\n",
      " |-- Description: string (nullable = true)\n",
      " |-- LocationDescription: string (nullable = true)\n",
      " |-- Arrest: string (nullable = true)\n",
      " |-- Domestic: boolean (nullable = true)\n",
      " |-- Beat: string (nullable = true)\n",
      " |-- District: string (nullable = true)\n",
      " |-- Ward: string (nullable = true)\n",
      " |-- CommunityArea: string (nullable = true)\n",
      " |-- FBICode: string (nullable = true)\n",
      " |-- XCoordinate: string (nullable = true)\n",
      " |-- YCoordinate: string (nullable = true)\n",
      " |-- Year: integer (nullable = true)\n",
      " |-- UpdatedOn: string (nullable = true)\n",
      " |-- Latitude: double (nullable = true)\n",
      " |-- Longitude: double (nullable = true)\n",
      " |-- Location: string (nullable = true)\n",
      "\n"
     ]
    }
   ],
   "source": [
    "df_one_day = spark.read.csv('../data/reported-crimes.csv', header=True, schema=schema)\n",
    "df_one_day.printSchema() "
   ]
  },
  {
   "cell_type": "code",
   "execution_count": 104,
   "metadata": {},
   "outputs": [],
   "source": [
    "df_one_day = df_one_day.drop('IUCR')"
   ]
  },
  {
   "cell_type": "code",
   "execution_count": 105,
   "metadata": {},
   "outputs": [
    {
     "name": "stdout",
     "output_type": "stream",
     "text": [
      "root\n",
      " |-- ID: string (nullable = true)\n",
      " |-- CaseNumber: string (nullable = true)\n",
      " |-- Date: timestamp (nullable = true)\n",
      " |-- Block: string (nullable = true)\n",
      " |-- PrimaryType: string (nullable = true)\n",
      " |-- Description: string (nullable = true)\n",
      " |-- LocationDescription: string (nullable = true)\n",
      " |-- Arrest: string (nullable = true)\n",
      " |-- Domestic: boolean (nullable = true)\n",
      " |-- Beat: string (nullable = true)\n",
      " |-- District: string (nullable = true)\n",
      " |-- Ward: string (nullable = true)\n",
      " |-- CommunityArea: string (nullable = true)\n",
      " |-- FBICode: string (nullable = true)\n",
      " |-- XCoordinate: string (nullable = true)\n",
      " |-- YCoordinate: string (nullable = true)\n",
      " |-- Year: integer (nullable = true)\n",
      " |-- UpdatedOn: string (nullable = true)\n",
      " |-- Latitude: double (nullable = true)\n",
      " |-- Longitude: double (nullable = true)\n",
      " |-- Location: string (nullable = true)\n",
      "\n"
     ]
    }
   ],
   "source": [
    "df_one_day.printSchema()"
   ]
  },
  {
   "cell_type": "code",
   "execution_count": 107,
   "metadata": {},
   "outputs": [],
   "source": [
    "df = df.drop('One')"
   ]
  },
  {
   "cell_type": "code",
   "execution_count": 108,
   "metadata": {},
   "outputs": [
    {
     "name": "stdout",
     "output_type": "stream",
     "text": [
      "root\n",
      " |-- ID: string (nullable = true)\n",
      " |-- CaseNumber: string (nullable = true)\n",
      " |-- Date: timestamp (nullable = true)\n",
      " |-- Block: string (nullable = true)\n",
      " |-- PrimaryType: string (nullable = true)\n",
      " |-- Description: string (nullable = true)\n",
      " |-- LocationDescription: string (nullable = true)\n",
      " |-- Arrest: string (nullable = true)\n",
      " |-- Domestic: boolean (nullable = true)\n",
      " |-- Beat: string (nullable = true)\n",
      " |-- District: string (nullable = true)\n",
      " |-- Ward: string (nullable = true)\n",
      " |-- CommunityArea: string (nullable = true)\n",
      " |-- FBICode: string (nullable = true)\n",
      " |-- XCoordinate: string (nullable = true)\n",
      " |-- YCoordinate: string (nullable = true)\n",
      " |-- Year: integer (nullable = true)\n",
      " |-- UpdatedOn: string (nullable = true)\n",
      " |-- Latitude: double (nullable = true)\n",
      " |-- Longitude: double (nullable = true)\n",
      " |-- Location: string (nullable = true)\n",
      "\n"
     ]
    }
   ],
   "source": [
    "df.printSchema()"
   ]
  },
  {
   "cell_type": "code",
   "execution_count": 109,
   "metadata": {},
   "outputs": [
    {
     "name": "stderr",
     "output_type": "stream",
     "text": [
      "22/03/27 17:41:45 WARN CSVHeaderChecker: CSV header does not conform to the schema.\n",
      " Header: ID, Case Number, Date, Block, Primary Type, Description, Location Description, Arrest, Domestic, Beat, District, Ward, Community Area, FBI Code, X Coordinate, Y Coordinate, Year, Updated On, Latitude, Longitude, Location\n",
      " Schema: ID, CaseNumber, Date, Block, PrimaryType, Description, LocationDescription, Arrest, Domestic, Beat, District, Ward, CommunityArea, FBICode, XCoordinate, YCoordinate, Year, UpdatedOn, Latitude, Longitude, Location\n",
      "Expected: CaseNumber but found: Case Number\n",
      "CSV file: file:///Users/rob_the_programmer/Documents/programming/2022/apache_pyspark_workspace/data/reported-crimes.csv\n",
      "22/03/27 17:46:00 WARN CSVHeaderChecker: CSV header does not conform to the schema.\n",
      " Header: ID, Case Number, Date, Block, Primary Type, Description, Location Description, Arrest, Domestic, Beat, District, Ward, Community Area, FBI Code, X Coordinate, Y Coordinate, Year, Updated On, Latitude, Longitude, Location\n",
      " Schema: ID, CaseNumber, Date, Block, PrimaryType, Description, LocationDescription, Arrest, Domestic, Beat, District, Ward, CommunityArea, FBICode, XCoordinate, YCoordinate, Year, UpdatedOn, Latitude, Longitude, Location\n",
      "Expected: CaseNumber but found: Case Number\n",
      "CSV file: file:///Users/rob_the_programmer/Documents/programming/2022/apache_pyspark_workspace/data/reported-crimes.csv\n",
      "[Stage 72:======================================================> (27 + 1) / 28]\r"
     ]
    },
    {
     "name": "stdout",
     "output_type": "stream",
     "text": [
      "+--------+----------+----+--------------------+-----------+--------------------+-------------------+------+--------+----+--------+----+-------------+-------+-----------+-----------+----+--------------------+------------+-------------+--------------------+\n",
      "|      ID|CaseNumber|Date|               Block|PrimaryType|         Description|LocationDescription|Arrest|Domestic|Beat|District|Ward|CommunityArea|FBICode|XCoordinate|YCoordinate|Year|           UpdatedOn|    Latitude|    Longitude|            Location|\n",
      "+--------+----------+----+--------------------+-----------+--------------------+-------------------+------+--------+----+--------+----+-------------+-------+-----------+-----------+----+--------------------+------------+-------------+--------------------+\n",
      "|10224738|  HY411648|null|     043XX S WOOD ST|    BATTERY|DOMESTIC BATTERY ...|          RESIDENCE| false|    true|0924|     009|  12|           61|    08B|    1165074|    1875917|2015|02/10/2018 03:50:...|41.815117282|-87.669999562|(41.815117282, -8...|\n",
      "|10224739|  HY411615|null| 008XX N CENTRAL AVE|      THEFT|      POCKET-PICKING|            CTA BUS| false|   false|1511|     015|  29|           25|     06|    1138875|    1904869|2015|02/10/2018 03:50:...|41.895080471|-87.765400451|(41.895080471, -8...|\n",
      "|11646166|  JC213529|null|082XX S INGLESIDE...|      THEFT|           OVER $500|          RESIDENCE| false|    true|0631|     006|   8|           44|     06|       null|       null|2018|04/06/2019 04:04:...|        null|         null|                null|\n",
      "|10224740|  HY411595|null|   035XX W BARRY AVE|  NARCOTICS|POSS: HEROIN(BRN/...|           SIDEWALK|  true|   false|1412|     014|  35|           21|     18|    1152037|    1920384|2015|02/10/2018 03:50:...|41.937405765|-87.716649687|(41.937405765, -8...|\n",
      "|10224741|  HY411610|null| 0000X N LARAMIE AVE|    ASSAULT|              SIMPLE|          APARTMENT| false|    true|1522|     015|  28|           25|    08A|    1141706|    1900086|2015|02/10/2018 03:50:...|41.881903443|-87.755121152|(41.881903443, -8...|\n",
      "+--------+----------+----+--------------------+-----------+--------------------+-------------------+------+--------+----+--------+----+-------------+-------+-----------+-----------+----+--------------------+------------+-------------+--------------------+\n",
      "only showing top 5 rows\n",
      "\n"
     ]
    },
    {
     "name": "stderr",
     "output_type": "stream",
     "text": [
      "                                                                                \r"
     ]
    }
   ],
   "source": [
    "df.union(df_one_day).orderBy('Date', ascending=False).show(5)"
   ]
  },
  {
   "cell_type": "code",
   "execution_count": 110,
   "metadata": {},
   "outputs": [
    {
     "name": "stderr",
     "output_type": "stream",
     "text": [
      "22/03/27 17:52:44 WARN CSVHeaderChecker: CSV header does not conform to the schema.\n",
      " Header: Primary Type\n",
      " Schema: PrimaryType\n",
      "Expected: PrimaryType but found: Primary Type\n",
      "CSV file: file:///Users/rob_the_programmer/Documents/programming/2022/apache_pyspark_workspace/data/reported-crimes.csv\n",
      "[Stage 73:====================================================>   (13 + 1) / 14]\r"
     ]
    },
    {
     "name": "stdout",
     "output_type": "stream",
     "text": [
      "+--------------------+-------+\n",
      "|         PrimaryType|  count|\n",
      "+--------------------+-------+\n",
      "|OFFENSE INVOLVING...|  53223|\n",
      "|CRIMINAL SEXUAL A...|   4691|\n",
      "|            STALKING|   4271|\n",
      "|PUBLIC PEACE VIOL...|  51474|\n",
      "|           OBSCENITY|    759|\n",
      "|NON-CRIMINAL (SUB...|      9|\n",
      "|               ARSON|  12752|\n",
      "|            GAMBLING|  14607|\n",
      "|   CRIMINAL TRESPASS| 209410|\n",
      "|             ASSAULT| 483856|\n",
      "|      NON - CRIMINAL|     38|\n",
      "|LIQUOR LAW VIOLATION|  14665|\n",
      "| MOTOR VEHICLE THEFT| 347762|\n",
      "|               THEFT|1580706|\n",
      "|             BATTERY|1377304|\n",
      "|             ROBBERY| 282361|\n",
      "|            HOMICIDE|  11781|\n",
      "|    PUBLIC INDECENCY|    188|\n",
      "| CRIM SEXUAL ASSAULT|  27770|\n",
      "|   HUMAN TRAFFICKING|     89|\n",
      "+--------------------+-------+\n",
      "only showing top 20 rows\n",
      "\n"
     ]
    },
    {
     "name": "stderr",
     "output_type": "stream",
     "text": [
      "                                                                                \r"
     ]
    }
   ],
   "source": [
    "# what are the top 10 number of reported crimes by primary type in descending order of occurrence?\n",
    "df.groupBy('PrimaryType').count().show()"
   ]
  },
  {
   "cell_type": "code",
   "execution_count": 111,
   "metadata": {},
   "outputs": [
    {
     "name": "stderr",
     "output_type": "stream",
     "text": [
      "22/03/27 17:56:13 WARN CSVHeaderChecker: CSV header does not conform to the schema.\n",
      " Header: Primary Type\n",
      " Schema: PrimaryType\n",
      "Expected: PrimaryType but found: Primary Type\n",
      "CSV file: file:///Users/rob_the_programmer/Documents/programming/2022/apache_pyspark_workspace/data/reported-crimes.csv\n",
      "[Stage 76:====================================================>   (13 + 1) / 14]\r"
     ]
    },
    {
     "name": "stdout",
     "output_type": "stream",
     "text": [
      "+-------------------+-------+\n",
      "|        PrimaryType|  count|\n",
      "+-------------------+-------+\n",
      "|              THEFT|1580706|\n",
      "|            BATTERY|1377304|\n",
      "|    CRIMINAL DAMAGE| 855934|\n",
      "|          NARCOTICS| 741378|\n",
      "|            ASSAULT| 483856|\n",
      "|      OTHER OFFENSE| 467094|\n",
      "|           BURGLARY| 416058|\n",
      "|MOTOR VEHICLE THEFT| 347762|\n",
      "| DECEPTIVE PRACTICE| 325248|\n",
      "|            ROBBERY| 282361|\n",
      "+-------------------+-------+\n",
      "only showing top 10 rows\n",
      "\n"
     ]
    },
    {
     "name": "stderr",
     "output_type": "stream",
     "text": [
      "                                                                                \r"
     ]
    }
   ],
   "source": [
    "df.groupBy('PrimaryType').count().orderBy('count', ascending=False).show(10)"
   ]
  },
  {
   "cell_type": "code",
   "execution_count": null,
   "metadata": {},
   "outputs": [],
   "source": []
  }
 ],
 "metadata": {
  "interpreter": {
   "hash": "aee8b7b246df8f9039afb4144a1f6fd8d2ca17a180786b69acc140d282b71a49"
  },
  "kernelspec": {
   "display_name": "Python 3.10.2 64-bit",
   "language": "python",
   "name": "python3"
  },
  "language_info": {
   "codemirror_mode": {
    "name": "ipython",
    "version": 3
   },
   "file_extension": ".py",
   "mimetype": "text/x-python",
   "name": "python",
   "nbconvert_exporter": "python",
   "pygments_lexer": "ipython3",
   "version": "3.9.7"
  },
  "orig_nbformat": 4
 },
 "nbformat": 4,
 "nbformat_minor": 2
}
