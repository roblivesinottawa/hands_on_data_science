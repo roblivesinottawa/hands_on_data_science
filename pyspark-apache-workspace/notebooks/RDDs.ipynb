{
 "cells": [
  {
   "cell_type": "markdown",
   "metadata": {
    "colab_type": "text",
    "id": "8qf-TmnsBgXd"
   },
   "source": [
    "# RDDs"
   ]
  },
  {
   "cell_type": "markdown",
   "metadata": {
    "colab_type": "text",
    "id": "Dd6t0uFzuR4X"
   },
   "source": [
    "## Download and install Spark"
   ]
  },
  {
   "cell_type": "code",
   "execution_count": 1,
   "metadata": {
    "colab": {},
    "colab_type": "code",
    "id": "zToS5PqxBXpK"
   },
   "outputs": [
    {
     "name": "stdout",
     "output_type": "stream",
     "text": [
      "\u001b[31mRDDs.ipynb\u001b[m\u001b[m   first.ipynb  second.ipynb third.ipynb\n"
     ]
    }
   ],
   "source": [
    "!ls"
   ]
  },
  {
   "cell_type": "code",
   "execution_count": 2,
   "metadata": {
    "colab": {},
    "colab_type": "code",
    "id": "tt7ZS1_wGgjn"
   },
   "outputs": [],
   "source": [
    "import findspark\n",
    "findspark.init()\n",
    "\n",
    "from pyspark import SparkContext\n",
    "from pyspark.sql import SparkSession\n",
    "from pyspark.sql.functions import to_timestamp,col,lit"
   ]
  },
  {
   "cell_type": "markdown",
   "metadata": {
    "colab_type": "text",
    "id": "FEuEkV0BlzAD"
   },
   "source": [
    "## Setup environment"
   ]
  },
  {
   "cell_type": "code",
   "execution_count": 4,
   "metadata": {
    "colab": {},
    "colab_type": "code",
    "id": "sdOOq4twHN1K"
   },
   "outputs": [
    {
     "data": {
      "text/html": [
       "\n",
       "        <div>\n",
       "            <p><b>SparkContext</b></p>\n",
       "\n",
       "            <p><a href=\"http://robsons-imac.lan:4047\">Spark UI</a></p>\n",
       "\n",
       "            <dl>\n",
       "              <dt>Version</dt>\n",
       "                <dd><code>v3.2.1</code></dd>\n",
       "              <dt>Master</dt>\n",
       "                <dd><code>local[*]</code></dd>\n",
       "              <dt>AppName</dt>\n",
       "                <dd><code>pyspark-shell</code></dd>\n",
       "            </dl>\n",
       "        </div>\n",
       "        "
      ],
      "text/plain": [
       "<SparkContext master=local[*] appName=pyspark-shell>"
      ]
     },
     "execution_count": 4,
     "metadata": {},
     "output_type": "execute_result"
    }
   ],
   "source": [
    "sc = SparkContext.getOrCreate()\n",
    "sc"
   ]
  },
  {
   "cell_type": "code",
   "execution_count": 5,
   "metadata": {},
   "outputs": [
    {
     "data": {
      "text/html": [
       "\n",
       "            <div>\n",
       "                <p><b>SparkSession - in-memory</b></p>\n",
       "                \n",
       "        <div>\n",
       "            <p><b>SparkContext</b></p>\n",
       "\n",
       "            <p><a href=\"http://robsons-imac.lan:4047\">Spark UI</a></p>\n",
       "\n",
       "            <dl>\n",
       "              <dt>Version</dt>\n",
       "                <dd><code>v3.2.1</code></dd>\n",
       "              <dt>Master</dt>\n",
       "                <dd><code>local[*]</code></dd>\n",
       "              <dt>AppName</dt>\n",
       "                <dd><code>pyspark-shell</code></dd>\n",
       "            </dl>\n",
       "        </div>\n",
       "        \n",
       "            </div>\n",
       "        "
      ],
      "text/plain": [
       "<pyspark.sql.session.SparkSession at 0x7feb97452820>"
      ]
     },
     "execution_count": 5,
     "metadata": {},
     "output_type": "execute_result"
    }
   ],
   "source": [
    "spark = SparkSession.builder.getOrCreate() \n",
    "spark"
   ]
  },
  {
   "cell_type": "markdown",
   "metadata": {
    "colab_type": "text",
    "id": "0ysUlfFrN5OD"
   },
   "source": [
    "## Downloading Chicago's police station dataset"
   ]
  },
  {
   "cell_type": "code",
   "execution_count": 6,
   "metadata": {
    "colab": {},
    "colab_type": "code",
    "id": "FDtw5Hy3N-pV"
   },
   "outputs": [],
   "source": [
    "df = spark.read.csv('../data/Police_Stations.csv', header=True)"
   ]
  },
  {
   "cell_type": "code",
   "execution_count": 7,
   "metadata": {
    "colab": {},
    "colab_type": "code",
    "id": "v4P5mMONYyVd"
   },
   "outputs": [
    {
     "name": "stdout",
     "output_type": "stream",
     "text": [
      "+------------+-------------+-------------------+-------+-----+-----+--------------------+------------+------------+------------+------------+------------+-----------+------------+--------------------+\n",
      "|    DISTRICT|DISTRICT NAME|            ADDRESS|   CITY|STATE|  ZIP|             WEBSITE|       PHONE|         FAX|         TTY|X COORDINATE|Y COORDINATE|   LATITUDE|   LONGITUDE|            LOCATION|\n",
      "+------------+-------------+-------------------+-------+-----+-----+--------------------+------------+------------+------------+------------+------------+-----------+------------+--------------------+\n",
      "|Headquarters| Headquarters|3510 S Michigan Ave|Chicago|   IL|60653|http://home.chica...|        null|        null|        null| 1177731.401| 1881697.404|41.83070169|-87.62339535|(41.8307016873, -...|\n",
      "|          18|   Near North| 1160 N Larrabee St|Chicago|   IL|60610|http://home.chica...|312-742-5870|312-742-5771|312-742-5773| 1172080.029| 1908086.527|41.90324165|-87.64335214|(41.9032416531, -...|\n",
      "|          19|    Town Hall|   850 W Addison St|Chicago|   IL|60613|http://home.chica...|312-744-8320|312-744-4481|312-744-8011| 1169730.744| 1924160.317|41.94740046|-87.65151202|(41.9474004564, -...|\n",
      "+------------+-------------+-------------------+-------+-----+-----+--------------------+------------+------------+------------+------------+------------+-----------+------------+--------------------+\n",
      "only showing top 3 rows\n",
      "\n"
     ]
    }
   ],
   "source": [
    "df.show(3)"
   ]
  },
  {
   "cell_type": "markdown",
   "metadata": {
    "colab_type": "text",
    "id": "mI_zYOVpf2yK"
   },
   "source": [
    "## RDDs setup"
   ]
  },
  {
   "cell_type": "code",
   "execution_count": 8,
   "metadata": {
    "colab": {},
    "colab_type": "code",
    "id": "808f1HzwgDyh"
   },
   "outputs": [
    {
     "name": "stderr",
     "output_type": "stream",
     "text": [
      "                                                                                \r"
     ]
    },
    {
     "data": {
      "text/plain": [
       "'DISTRICT,DISTRICT NAME,ADDRESS,CITY,STATE,ZIP,WEBSITE,PHONE,FAX,TTY,X COORDINATE,Y COORDINATE,LATITUDE,LONGITUDE,LOCATION'"
      ]
     },
     "execution_count": 8,
     "metadata": {},
     "output_type": "execute_result"
    }
   ],
   "source": [
    "dfrdd = sc.textFile('../data/Police_Stations.csv')\n",
    "dfrdd.first()"
   ]
  },
  {
   "cell_type": "code",
   "execution_count": 9,
   "metadata": {
    "colab": {},
    "colab_type": "code",
    "id": "PeeOFy5cgDRq"
   },
   "outputs": [],
   "source": [
    "df_header = dfrdd.first()"
   ]
  },
  {
   "cell_type": "code",
   "execution_count": 10,
   "metadata": {
    "colab": {},
    "colab_type": "code",
    "id": "qLS_NEpEgDBJ"
   },
   "outputs": [
    {
     "data": {
      "text/plain": [
       "'DISTRICT,DISTRICT NAME,ADDRESS,CITY,STATE,ZIP,WEBSITE,PHONE,FAX,TTY,X COORDINATE,Y COORDINATE,LATITUDE,LONGITUDE,LOCATION'"
      ]
     },
     "execution_count": 10,
     "metadata": {},
     "output_type": "execute_result"
    }
   ],
   "source": [
    "df_header"
   ]
  },
  {
   "cell_type": "code",
   "execution_count": 11,
   "metadata": {
    "colab": {},
    "colab_type": "code",
    "id": "E7NuMVpygC2h"
   },
   "outputs": [
    {
     "data": {
      "text/plain": [
       "'Headquarters,Headquarters,3510 S Michigan Ave,Chicago,IL,60653,http://home.chicagopolice.org,,,,1177731.401,1881697.404,41.83070169,-87.62339535,\"(41.8307016873, -87.6233953459)\"'"
      ]
     },
     "execution_count": 11,
     "metadata": {},
     "output_type": "execute_result"
    }
   ],
   "source": [
    "df_rest = dfrdd.filter(lambda line: line != df_header)\n",
    "df_rest.first()"
   ]
  },
  {
   "cell_type": "markdown",
   "metadata": {
    "colab_type": "text",
    "id": "ShYgMK6jPsSt"
   },
   "source": [
    "**How many police stations are there?**"
   ]
  },
  {
   "cell_type": "code",
   "execution_count": 12,
   "metadata": {
    "colab": {},
    "colab_type": "code",
    "id": "2FbZPk84Pwxc"
   },
   "outputs": [
    {
     "data": {
      "text/plain": [
       "[['Headquarters',\n",
       "  'Headquarters',\n",
       "  '3510 S Michigan Ave',\n",
       "  'Chicago',\n",
       "  'IL',\n",
       "  '60653',\n",
       "  'http://home.chicagopolice.org',\n",
       "  '',\n",
       "  '',\n",
       "  '',\n",
       "  '1177731.401',\n",
       "  '1881697.404',\n",
       "  '41.83070169',\n",
       "  '-87.62339535',\n",
       "  '\"(41.8307016873',\n",
       "  ' -87.6233953459)\"'],\n",
       " ['18',\n",
       "  'Near North',\n",
       "  '1160 N Larrabee St',\n",
       "  'Chicago',\n",
       "  'IL',\n",
       "  '60610',\n",
       "  'http://home.chicagopolice.org/community/districts/18th-district-near-north/',\n",
       "  '312-742-5870',\n",
       "  '312-742-5771',\n",
       "  '312-742-5773',\n",
       "  '1172080.029',\n",
       "  '1908086.527',\n",
       "  '41.90324165',\n",
       "  '-87.64335214',\n",
       "  '\"(41.9032416531',\n",
       "  ' -87.6433521393)\"'],\n",
       " ['19',\n",
       "  'Town Hall',\n",
       "  '850 W Addison St',\n",
       "  'Chicago',\n",
       "  'IL',\n",
       "  '60613',\n",
       "  'http://home.chicagopolice.org/community/districts/19th-district-town-hall/',\n",
       "  '312-744-8320',\n",
       "  '312-744-4481',\n",
       "  '312-744-8011',\n",
       "  '1169730.744',\n",
       "  '1924160.317',\n",
       "  '41.94740046',\n",
       "  '-87.65151202',\n",
       "  '\"(41.9474004564',\n",
       "  ' -87.651512018)\"'],\n",
       " ['20',\n",
       "  'Lincoln',\n",
       "  '5400 N Lincoln Ave',\n",
       "  'Chicago',\n",
       "  'IL',\n",
       "  '60625',\n",
       "  'http://home.chicagopolice.org/community/districts/20th-district-lincoln/',\n",
       "  '312-742-8714',\n",
       "  '312-742-8803',\n",
       "  '312-742-8841',\n",
       "  '1158399.146',\n",
       "  '1935788.826',\n",
       "  '41.97954951',\n",
       "  '-87.69284451',\n",
       "  '\"(41.9795495131',\n",
       "  ' -87.6928445094)\"'],\n",
       " ['22',\n",
       "  'Morgan Park',\n",
       "  '1900 W Monterey Ave',\n",
       "  'Chicago',\n",
       "  'IL',\n",
       "  '60643',\n",
       "  'http://home.chicagopolice.org/community/districts/22nd-district-morgan-park/',\n",
       "  '312-745-0710',\n",
       "  '312-745-0814',\n",
       "  '312-745-0569',\n",
       "  '1165825.476',\n",
       "  '1830851.333',\n",
       "  '41.69143478',\n",
       "  '-87.66852039',\n",
       "  '\"(41.6914347795',\n",
       "  ' -87.6685203937)\"'],\n",
       " ['24',\n",
       "  'Rogers Park',\n",
       "  '6464 N Clark St',\n",
       "  'Chicago',\n",
       "  'IL',\n",
       "  '60626',\n",
       "  'http://home.chicagopolice.org/community/districts/24th-district-rogers-park/',\n",
       "  '312-744-5907',\n",
       "  '312-744-6928',\n",
       "  '312-744-7603',\n",
       "  '1164193.588',\n",
       "  '1943199.401',\n",
       "  '41.99976348',\n",
       "  '-87.67132429',\n",
       "  '\"(41.9997634842',\n",
       "  ' -87.6713242922)\"'],\n",
       " ['25',\n",
       "  'Grand Central',\n",
       "  '5555 W Grand Ave',\n",
       "  'Chicago',\n",
       "  'IL',\n",
       "  '60639',\n",
       "  'http://home.chicagopolice.org/community/districts/25th-district-grand-central/',\n",
       "  '312-746-8605',\n",
       "  '312-746-4353',\n",
       "  '312-746-8383',\n",
       "  '1138770.871',\n",
       "  '1913442.439',\n",
       "  '41.91860889',\n",
       "  '-87.76557448',\n",
       "  '\"(41.9186088912',\n",
       "  ' -87.765574479)\"'],\n",
       " ['1',\n",
       "  'Central',\n",
       "  '1718 S State St',\n",
       "  'Chicago',\n",
       "  'IL',\n",
       "  '60616',\n",
       "  'http://home.chicagopolice.org/community/districts/1st-district-central/',\n",
       "  '312-745-4290',\n",
       "  '312-745-3694',\n",
       "  '312-745-3693',\n",
       "  '1176569.052',\n",
       "  '1891771.704',\n",
       "  '41.85837259',\n",
       "  '-87.62735617',\n",
       "  '\"(41.8583725929',\n",
       "  ' -87.627356171)\"'],\n",
       " ['2',\n",
       "  'Wentworth',\n",
       "  '5101 S Wentworth Ave',\n",
       "  'Chicago',\n",
       "  'IL',\n",
       "  '60609',\n",
       "  'http://home.chicagopolice.org/community/districts/2nd-district-wentworth/',\n",
       "  '312-747-8366',\n",
       "  '312-747-5396',\n",
       "  '312-747-6656',\n",
       "  '1175864.837',\n",
       "  '1871153.753',\n",
       "  '41.80181109',\n",
       "  '-87.63056018',\n",
       "  '\"(41.8018110912',\n",
       "  ' -87.6305601801)\"'],\n",
       " ['3',\n",
       "  'Grand Crossing',\n",
       "  '7040 S Cottage Grove Ave',\n",
       "  'Chicago',\n",
       "  'IL',\n",
       "  '60637',\n",
       "  'http://home.chicagopolice.org/community/districts/3rd-district-grand-crossing/',\n",
       "  '312-747-8201',\n",
       "  '312-747-5479',\n",
       "  '312-747-9168',\n",
       "  '1182739.183',\n",
       "  '1858317.732',\n",
       "  '41.76643089',\n",
       "  '-87.60574786',\n",
       "  '\"(41.7664308925',\n",
       "  ' -87.6057478606)\"'],\n",
       " ['4',\n",
       "  'South Chicago',\n",
       "  '2255 E 103rd St',\n",
       "  'Chicago',\n",
       "  'IL',\n",
       "  '60617',\n",
       "  'http://home.chicagopolice.org/community/districts/4th-district-south-chicago/',\n",
       "  '312-747-7581',\n",
       "  '312-747-5276',\n",
       "  '312-747-9169',\n",
       "  '1193131.299',\n",
       "  '1837090.265',\n",
       "  '41.70793329',\n",
       "  '-87.56834912',\n",
       "  '\"(41.7079332906',\n",
       "  ' -87.5683491228)\"'],\n",
       " ['5',\n",
       "  'Calumet',\n",
       "  '727 E 111th St',\n",
       "  'Chicago',\n",
       "  'IL',\n",
       "  '60628',\n",
       "  'http://home.chicagopolice.org/community/districts/5th-district-calumet/',\n",
       "  '312-747-8210',\n",
       "  '312-747-5935',\n",
       "  '312-747-9170',\n",
       "  '1183305.427',\n",
       "  '1831462.313',\n",
       "  '41.69272336',\n",
       "  '-87.60450587',\n",
       "  '\"(41.6927233639',\n",
       "  ' -87.6045058667)\"'],\n",
       " ['6',\n",
       "  'Gresham',\n",
       "  '7808 S Halsted St',\n",
       "  'Chicago',\n",
       "  'IL',\n",
       "  '60620',\n",
       "  'http://home.chicagopolice.org/community/districts/6th-district-gresham/',\n",
       "  '312-745-3617',\n",
       "  '312-745-3649',\n",
       "  '312-745-3639',\n",
       "  '1172283.013',\n",
       "  '1853022.646',\n",
       "  '41.75213684',\n",
       "  '-87.64422891',\n",
       "  '\"(41.7521368378',\n",
       "  ' -87.6442289066)\"'],\n",
       " ['7',\n",
       "  'Englewood',\n",
       "  '1438 W 63rd St',\n",
       "  'Chicago',\n",
       "  'IL',\n",
       "  '60636',\n",
       "  'http://home.chicagopolice.org/community/districts/7th-district-englewood/',\n",
       "  '312-747-8223',\n",
       "  '312-747-6558',\n",
       "  '312-747-6652',\n",
       "  '1167659.235',\n",
       "  '1863005.522',\n",
       "  '41.77963154',\n",
       "  '-87.66088702',\n",
       "  '\"(41.7796315359',\n",
       "  ' -87.6608870173)\"'],\n",
       " ['8',\n",
       "  'Chicago Lawn',\n",
       "  '3420 W 63rd St',\n",
       "  'Chicago',\n",
       "  'IL',\n",
       "  '60629',\n",
       "  'http://home.chicagopolice.org/community/districts/8th-district-chicago-lawn/',\n",
       "  '312-747-8730',\n",
       "  '312-747-8545',\n",
       "  '312-747-8116',\n",
       "  '1154575.242',\n",
       "  '1862672.049',\n",
       "  '41.77898719',\n",
       "  '-87.70886382',\n",
       "  '\"(41.778987189',\n",
       "  ' -87.7088638153)\"'],\n",
       " ['9',\n",
       "  'Deering',\n",
       "  '3120 S Halsted St',\n",
       "  'Chicago',\n",
       "  'IL',\n",
       "  '60608',\n",
       "  'http://home.chicagopolice.org/community/districts/9th-district-deering/',\n",
       "  '312-747-8227',\n",
       "  '312-747-5329',\n",
       "  '312-747-9172',\n",
       "  '1171440.24',\n",
       "  '1884085.224',\n",
       "  '41.83739443',\n",
       "  '-87.64640771',\n",
       "  '\"(41.8373944311',\n",
       "  ' -87.6464077068)\"'],\n",
       " ['10',\n",
       "  'Ogden',\n",
       "  '3315 W Ogden Ave',\n",
       "  'Chicago',\n",
       "  'IL',\n",
       "  '60623',\n",
       "  'http://home.chicagopolice.org/community/districts/10th-district-ogden/',\n",
       "  '312-747-7511',\n",
       "  '312-747-7429',\n",
       "  '312-747-7471',\n",
       "  '1154500.753',\n",
       "  '1890985.501',\n",
       "  '41.85668453',\n",
       "  '-87.70838196',\n",
       "  '\"(41.8566845327',\n",
       "  ' -87.708381958)\"'],\n",
       " ['11',\n",
       "  'Harrison',\n",
       "  '3151 W Harrison St',\n",
       "  'Chicago',\n",
       "  'IL',\n",
       "  '60612',\n",
       "  'http://home.chicagopolice.org/community/districts/11th-district-harrison/',\n",
       "  '312-746-8386',\n",
       "  '312-746-4281',\n",
       "  '312-746-5151',\n",
       "  '1155244.069',\n",
       "  '1897148.755',\n",
       "  '41.87358229',\n",
       "  '-87.70548813',\n",
       "  '\"(41.8735822883',\n",
       "  ' -87.705488126)\"'],\n",
       " ['12', 'Near West', '\"1412 S Blue Island Ave'],\n",
       " ['\"',\n",
       "  'Chicago',\n",
       "  'IL',\n",
       "  '60608',\n",
       "  'http://home.chicagopolice.org/community/districts/12th-district-near-west/',\n",
       "  '312-746-8396',\n",
       "  '312-746-4248',\n",
       "  '312-746-9868',\n",
       "  '1168487.845',\n",
       "  '1893384.455',\n",
       "  '41.86297662',\n",
       "  '-87.65697251',\n",
       "  '\"(41.8629766244',\n",
       "  ' -87.6569725149)\"'],\n",
       " ['14',\n",
       "  'Shakespeare',\n",
       "  '2150 N California Ave',\n",
       "  'Chicago',\n",
       "  'IL',\n",
       "  '60647',\n",
       "  'http://home.chicagopolice.org/community/districts/14th-district-shakespeare/',\n",
       "  '312-744-8250',\n",
       "  '312-744-2422',\n",
       "  '312-744-8260',\n",
       "  '1157304.426',\n",
       "  '1914481.521',\n",
       "  '41.92110332',\n",
       "  '-87.69745182',\n",
       "  '\"(41.9211033246',\n",
       "  ' -87.6974518223)\"'],\n",
       " ['15',\n",
       "  'Austin',\n",
       "  '5701 W Madison St',\n",
       "  'Chicago',\n",
       "  'IL',\n",
       "  '60644',\n",
       "  'http://home.chicagopolice.org/community/districts/15th-district-austin/',\n",
       "  '312-743-1440',\n",
       "  '312-743-1366',\n",
       "  '312-743-1485',\n",
       "  '1138148.815',\n",
       "  '1899399.078',\n",
       "  '41.88008346',\n",
       "  '-87.76819989',\n",
       "  '\"(41.8800834614',\n",
       "  ' -87.768199889)\"'],\n",
       " ['16',\n",
       "  'Jefferson Park',\n",
       "  '5151 N Milwaukee Ave',\n",
       "  'Chicago',\n",
       "  'IL',\n",
       "  '60630',\n",
       "  'http://home.chicagopolice.org/community/districts/16th-district-jefferson-park/',\n",
       "  '312-742-4480',\n",
       "  '312-742-4421',\n",
       "  '312-742-4423',\n",
       "  '1138480.758',\n",
       "  '1933660.473',\n",
       "  '41.97409445',\n",
       "  '-87.76614884',\n",
       "  '\"(41.9740944511',\n",
       "  ' -87.7661488432)\"'],\n",
       " ['17',\n",
       "  'Albany Park',\n",
       "  '4650 N Pulaski Rd',\n",
       "  'Chicago',\n",
       "  'IL',\n",
       "  '60630',\n",
       "  'http://home.chicagopolice.org/community/districts/17th-district-albany-park/',\n",
       "  '312-742-4410',\n",
       "  '312-742-5411',\n",
       "  '312-742-5451',\n",
       "  '1148843.91',\n",
       "  '1930801.058',\n",
       "  '41.96605342',\n",
       "  '-87.72811456',\n",
       "  '\"(41.9660534171',\n",
       "  ' -87.728114561)\"']]"
      ]
     },
     "execution_count": 12,
     "metadata": {},
     "output_type": "execute_result"
    }
   ],
   "source": [
    "df_rest.map(lambda line: line.split(',')).collect()"
   ]
  },
  {
   "cell_type": "code",
   "execution_count": 14,
   "metadata": {
    "colab": {},
    "colab_type": "code",
    "id": "Iv-dVhhhPwrO"
   },
   "outputs": [
    {
     "data": {
      "text/plain": [
       "24"
      ]
     },
     "execution_count": 14,
     "metadata": {},
     "output_type": "execute_result"
    }
   ],
   "source": [
    "df_rest.map(lambda line: line.split(',')).count()"
   ]
  },
  {
   "cell_type": "markdown",
   "metadata": {
    "colab_type": "text",
    "id": "WKYiypY0MbJ1"
   },
   "source": [
    "**Display the District ID, District name, Address and Zip for the police station with District ID 7**\n",
    "\n"
   ]
  },
  {
   "cell_type": "code",
   "execution_count": 15,
   "metadata": {
    "colab": {},
    "colab_type": "code",
    "id": "JkUF4yJFgG25"
   },
   "outputs": [
    {
     "data": {
      "text/plain": [
       "[('7', 'Englewood', '1438 W 63rd St', '60636')]"
      ]
     },
     "execution_count": 15,
     "metadata": {},
     "output_type": "execute_result"
    }
   ],
   "source": [
    "(df_rest.filter(lambda line:line.split(',')[0] == '7')\n",
    ".map(lambda line:(\n",
    "                    line.split(',')[0],\n",
    "                    line.split(',')[1],\n",
    "                    line.split(',')[2],\n",
    "                    line.split(',')[5]\n",
    "                )).collect())"
   ]
  },
  {
   "cell_type": "markdown",
   "metadata": {
    "colab_type": "text",
    "id": "1mWxQg2mN4W7"
   },
   "source": [
    "**Police stations 10 and 11 are geographically close to each other. Display the District ID, District name, address and zip code**"
   ]
  },
  {
   "cell_type": "code",
   "execution_count": 16,
   "metadata": {
    "colab": {},
    "colab_type": "code",
    "id": "9DiIzEr-Gadn"
   },
   "outputs": [
    {
     "data": {
      "text/plain": [
       "[('Ogden', '3315 W Ogden Ave', '60623'),\n",
       " ('Harrison', '3151 W Harrison St', '60612')]"
      ]
     },
     "execution_count": 16,
     "metadata": {},
     "output_type": "execute_result"
    },
    {
     "name": "stderr",
     "output_type": "stream",
     "text": [
      "22/03/28 23:20:19 WARN HeartbeatReceiver: Removing executor driver with no recent heartbeats: 7184870 ms exceeds timeout 120000 ms\n",
      "22/03/28 23:20:21 WARN SparkContext: Killing executors is not supported by current scheduler.\n"
     ]
    }
   ],
   "source": [
    "df_rest.filter(lambda line:line.split(',')[0] in ['10', '11']).map(\n",
    "    lambda line:(\n",
    "                    line.split(',')[1],\n",
    "                    line.split(',')[2],\n",
    "                    line.split(',')[5]\n",
    "                )).collect()"
   ]
  },
  {
   "cell_type": "code",
   "execution_count": null,
   "metadata": {
    "colab": {},
    "colab_type": "code",
    "id": "j_iQqpL1KJ2d"
   },
   "outputs": [],
   "source": []
  },
  {
   "cell_type": "code",
   "execution_count": null,
   "metadata": {
    "colab": {},
    "colab_type": "code",
    "id": "GbcSuGRpKJzq"
   },
   "outputs": [],
   "source": []
  },
  {
   "cell_type": "code",
   "execution_count": null,
   "metadata": {
    "colab": {},
    "colab_type": "code",
    "id": "h95xRmYbKJxE"
   },
   "outputs": [],
   "source": []
  }
 ],
 "metadata": {
  "colab": {
   "name": "RDDs.ipynb",
   "provenance": [],
   "version": "0.3.2"
  },
  "kernelspec": {
   "display_name": "Python 3",
   "language": "python",
   "name": "python3"
  },
  "language_info": {
   "codemirror_mode": {
    "name": "ipython",
    "version": 3
   },
   "file_extension": ".py",
   "mimetype": "text/x-python",
   "name": "python",
   "nbconvert_exporter": "python",
   "pygments_lexer": "ipython3",
   "version": "3.9.7"
  }
 },
 "nbformat": 4,
 "nbformat_minor": 2
}
